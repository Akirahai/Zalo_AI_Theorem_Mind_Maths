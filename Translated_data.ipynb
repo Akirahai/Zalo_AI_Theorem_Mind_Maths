{
  "cells": [
    {
      "cell_type": "markdown",
      "metadata": {
        "id": "O0Z6geplUTtV"
      },
      "source": [
        "# Data Pre-processing"
      ]
    },
    {
      "cell_type": "code",
      "execution_count": 27,
      "metadata": {
        "id": "S540-p-VQZ0-"
      },
      "outputs": [],
      "source": [
        "# Read the data:\n",
        "import json\n",
        "\n",
        "with open('data/math_train.json') as f:\n",
        "    math_train = json.load(f)\n",
        "with open('data/math_test.json') as f:\n",
        "    math_test = json.load(f)"
      ]
    },
    {
      "cell_type": "code",
      "execution_count": 28,
      "metadata": {
        "id": "VWV5QCEWQwvd"
      },
      "outputs": [],
      "source": [
        "def format_data_point(data_point):\n",
        "    question = data_point[\"question\"]\n",
        "    choices = \" \".join(data_point[\"choices\"])\n",
        "    formatted_text = f\"Question: {question} Choices: {choices}\"\n",
        "    answer = data_point['answer']\n",
        "    return formatted_text, answer\n",
        "\n",
        "formatted_train_data = [format_data_point(dp) for dp in math_train[\"data\"]]"
      ]
    },
    {
      "cell_type": "code",
      "execution_count": 29,
      "metadata": {},
      "outputs": [],
      "source": [
        "def format_data_point_test(data_point):\n",
        "    question = data_point[\"question\"]\n",
        "    choices = \" \".join(data_point[\"choices\"])\n",
        "    formatted_text = f\"Question: {question} Choices: {choices}\"\n",
        "    id = data_point['id']\n",
        "    return id, formatted_text\n",
        "\n",
        "formatted_test_data = [format_data_point_test(dp) for dp in math_test['data']]"
      ]
    },
    {
      "cell_type": "markdown",
      "metadata": {
        "id": "PQZbtjQrUYej"
      },
      "source": [
        "# Add the Model"
      ]
    },
    {
      "cell_type": "code",
      "execution_count": 30,
      "metadata": {
        "colab": {
          "background_save": true
        },
        "id": "grRdY32-OZVG"
      },
      "outputs": [],
      "source": [
        "\n",
        "from transformers import AutoModelForCausalLM, AutoTokenizer, AutoModelForSeq2SeqLM\n",
        "from transformers.generation import GenerationConfig\n",
        "import torch\n",
        "import re\n",
        "tokenizer_vi2en = AutoTokenizer.from_pretrained(\"vinai/vinai-translate-vi2en-v2\", use_fast=False)\n",
        "model_vi2en = AutoModelForSeq2SeqLM.from_pretrained(\"vinai/vinai-translate-vi2en-v2\")\n",
        "device_vi2en = torch.device(\"cuda:2\")\n",
        "model_vi2en.to(device_vi2en)\n",
        "\n",
        "RE_MATCH=r'((?:[\\.,][0-9])+)'\n",
        "\n",
        "def translate_vi2en(vi_texts: str) -> str:\n",
        "    input_ids = tokenizer_vi2en(vi_texts, padding=True, return_tensors=\"pt\").to(device_vi2en)\n",
        "    output_ids = model_vi2en.generate(\n",
        "        **input_ids,\n",
        "        decoder_start_token_id=tokenizer_vi2en.lang_code_to_id[\"en_XX\"],\n",
        "        num_return_sequences=1,\n",
        "        num_beams=5,\n",
        "        early_stopping=True\n",
        "    )\n",
        "    en_texts = tokenizer_vi2en.batch_decode(output_ids, skip_special_tokens=True)\n",
        "    return ' '.join(en_texts)"
      ]
    },
    {
      "cell_type": "markdown",
      "metadata": {},
      "source": [
        "## Translate train data"
      ]
    },
    {
      "cell_type": "code",
      "execution_count": 31,
      "metadata": {},
      "outputs": [],
      "source": [
        "import copy\n",
        "import re\n",
        "\n",
        "def preserve_numbers_translate(text, translate_function):\n",
        "    text = re.sub(r'(\\d+),(\\d+)', r'\\1.\\2', text)\n",
        "    numbers = re.findall(r'\\d+[\\d\\s.]*', text)\n",
        "    placeholder_text = re.sub(r'\\d+[\\d\\s.]*', '{}', text)\n",
        "    translated_text_with_placeholders = translate_function(placeholder_text)\n",
        "    parts = translated_text_with_placeholders.split('{}')\n",
        "    translated_text_with_numbers = ''.join([part + (num if i < len(numbers) else '') for i, (part, num) in enumerate(zip(parts, numbers + ['']))])\n",
        "    translated_text_with_numbers = re.sub(' +', ' ', translated_text_with_numbers)\n",
        "    return translated_text_with_numbers.strip()\n",
        "\n",
        "def remove_latex_pos(text):\n",
        "    return text.replace('{\\\\pos [1, 2]}', '')\n",
        "\n",
        "eng_math_train = []\n",
        "for i in range(0, len(math_train['data'])):\n",
        "    A = copy.deepcopy(math_train['data'][i])\n",
        "    A['question'] = remove_latex_pos(preserve_numbers_translate(A['question'], translate_vi2en))\n",
        "    \n",
        "    for j in range(len(A['choices'])): \n",
        "        choice_text = A['choices'][j][2:] # Extract text without option letter\n",
        "        translated_choice = remove_latex_pos(preserve_numbers_translate(choice_text, translate_vi2en))\n",
        "        A['choices'][j] = A['choices'][j][:2] + translated_choice # Combine option letter with translated text\n",
        "        \n",
        "    if 'explanation' in A:\n",
        "        A['explanation'] = remove_latex_pos(preserve_numbers_translate(A['explanation'], translate_vi2en))\n",
        "    else:\n",
        "        # Handle the case where 'explanation' key is missing\n",
        "        A['explanation'] = \"Easy question\"\n",
        "        \n",
        "    A['answer'] = A['answer'][:2] + remove_latex_pos(preserve_numbers_translate(A['answer'][2:], translate_vi2en))\n",
        "    \n",
        "    eng_math_train.append(A)"
      ]
    },
    {
      "cell_type": "code",
      "execution_count": 35,
      "metadata": {},
      "outputs": [],
      "source": [
        "# Save data\n",
        "\n",
        "data = {\n",
        "    '__count__': len(eng_math_train),\n",
        "    'data': eng_math_train\n",
        "}\n",
        "\n",
        "# Save to JSON\n",
        "with open(\"data/eng_math_train.json\", \"w\") as f:\n",
        "    json.dump(data, f, indent=3)  # Use indent for better readability (optional)"
      ]
    },
    {
      "cell_type": "markdown",
      "metadata": {},
      "source": [
        "## Translate test data"
      ]
    },
    {
      "cell_type": "code",
      "execution_count": 33,
      "metadata": {},
      "outputs": [],
      "source": [
        "import copy\n",
        "import re\n",
        "\n",
        "def preserve_numbers_translate(text, translate_function):\n",
        "    text = re.sub(r'(\\d+),(\\d+)', r'\\1.\\2', text)\n",
        "    numbers = re.findall(r'\\d+[\\d\\s.]*', text)\n",
        "    placeholder_text = re.sub(r'\\d+[\\d\\s.]*', '{}', text)\n",
        "    translated_text_with_placeholders = translate_function(placeholder_text)\n",
        "    parts = translated_text_with_placeholders.split('{}')\n",
        "    translated_text_with_numbers = ''.join([part + (num if i < len(numbers) else '') for i, (part, num) in enumerate(zip(parts, numbers + ['']))])\n",
        "    translated_text_with_numbers = re.sub(' +', ' ', translated_text_with_numbers)\n",
        "    return translated_text_with_numbers.strip()\n",
        "\n",
        "def remove_latex_pos(text):\n",
        "    return text.replace('{\\\\pos [1, 2]}', '')\n",
        "\n",
        "eng_math_test = []\n",
        "for i in range(0, len(math_test['data'])):\n",
        "    A = copy.deepcopy(math_test['data'][i])\n",
        "    A['question'] = remove_latex_pos(preserve_numbers_translate(A['question'], translate_vi2en))\n",
        "    for j in range(len(A['choices'])): \n",
        "        choice_text = A['choices'][j][3:] # Extract text without option letter\n",
        "        translated_choice = remove_latex_pos(preserve_numbers_translate(choice_text, translate_vi2en))\n",
        "        A['choices'][j] = A['choices'][j][:3] + translated_choice # Combine option letter with translated text\n",
        "    eng_math_test.append(A)"
      ]
    },
    {
      "cell_type": "code",
      "execution_count": 34,
      "metadata": {},
      "outputs": [],
      "source": [
        "# Save data\n",
        "\n",
        "data = {\n",
        "    '__count__': len(eng_math_test),\n",
        "    'data': eng_math_test\n",
        "}\n",
        "\n",
        "# Save to JSON\n",
        "with open(\"data/eng_math_test.json\", \"w\") as f:\n",
        "    json.dump(data, f, indent=3)  # Use indent for better readability (optional)"
      ]
    },
    {
      "cell_type": "code",
      "execution_count": null,
      "metadata": {},
      "outputs": [],
      "source": []
    }
  ],
  "metadata": {
    "accelerator": "GPU",
    "colab": {
      "provenance": []
    },
    "kernelspec": {
      "display_name": "Python 3",
      "name": "python3"
    },
    "language_info": {
      "codemirror_mode": {
        "name": "ipython",
        "version": 3
      },
      "file_extension": ".py",
      "mimetype": "text/x-python",
      "name": "python",
      "nbconvert_exporter": "python",
      "pygments_lexer": "ipython3",
      "version": "3.10.11"
    }
  },
  "nbformat": 4,
  "nbformat_minor": 0
}
